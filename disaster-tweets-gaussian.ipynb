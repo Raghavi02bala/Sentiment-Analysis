{
 "cells": [
  {
   "cell_type": "code",
   "execution_count": 1,
   "id": "3614aa03",
   "metadata": {
    "_cell_guid": "b1076dfc-b9ad-4769-8c92-a6c4dae69d19",
    "_uuid": "8f2839f25d086af736a60e9eeb907d3b93b6e0e5",
    "execution": {
     "iopub.execute_input": "2021-08-18T12:03:59.383368Z",
     "iopub.status.busy": "2021-08-18T12:03:59.382068Z",
     "iopub.status.idle": "2021-08-18T12:03:59.396595Z",
     "shell.execute_reply": "2021-08-18T12:03:59.397136Z",
     "shell.execute_reply.started": "2021-08-16T10:04:35.569221Z"
    },
    "papermill": {
     "duration": 0.032826,
     "end_time": "2021-08-18T12:03:59.397475",
     "exception": false,
     "start_time": "2021-08-18T12:03:59.364649",
     "status": "completed"
    },
    "tags": []
   },
   "outputs": [
    {
     "name": "stdout",
     "output_type": "stream",
     "text": [
      "/kaggle/input/nlp-getting-started/sample_submission.csv\n",
      "/kaggle/input/nlp-getting-started/train.csv\n",
      "/kaggle/input/nlp-getting-started/test.csv\n"
     ]
    }
   ],
   "source": [
    "# This Python 3 environment comes with many helpful analytics libraries installed\n",
    "# It is defined by the kaggle/python Docker image: https://github.com/kaggle/docker-python\n",
    "# For example, here's several helpful packages to load\n",
    "\n",
    "import numpy as np # linear algebra\n",
    "import pandas as pd # data processing, CSV file I/O (e.g. pd.read_csv)\n",
    "\n",
    "# Input data files are available in the read-only \"../input/\" directory\n",
    "# For example, running this (by clicking run or pressing Shift+Enter) will list all files under the input directory\n",
    "\n",
    "import os\n",
    "for dirname, _, filenames in os.walk('/kaggle/input'):\n",
    "    for filename in filenames:\n",
    "        print(os.path.join(dirname, filename))\n",
    "\n",
    "# You can write up to 20GB to the current directory (/kaggle/working/) that gets preserved as output when you create a version using \"Save & Run All\" \n",
    "# You can also write temporary files to /kaggle/temp/, but they won't be saved outside of the current session"
   ]
  },
  {
   "cell_type": "code",
   "execution_count": 2,
   "id": "75510997",
   "metadata": {
    "execution": {
     "iopub.execute_input": "2021-08-18T12:03:59.429199Z",
     "iopub.status.busy": "2021-08-18T12:03:59.428487Z",
     "iopub.status.idle": "2021-08-18T12:04:00.189367Z",
     "shell.execute_reply": "2021-08-18T12:04:00.188807Z",
     "shell.execute_reply.started": "2021-08-16T10:05:07.907318Z"
    },
    "papermill": {
     "duration": 0.777682,
     "end_time": "2021-08-18T12:04:00.189514",
     "exception": false,
     "start_time": "2021-08-18T12:03:59.411832",
     "status": "completed"
    },
    "tags": []
   },
   "outputs": [
    {
     "name": "stdout",
     "output_type": "stream",
     "text": [
      "/bin/bash: nvidia-smi: command not found\r\n"
     ]
    }
   ],
   "source": [
    "!nvidia-smi"
   ]
  },
  {
   "cell_type": "code",
   "execution_count": 3,
   "id": "cd0d063c",
   "metadata": {
    "execution": {
     "iopub.execute_input": "2021-08-18T12:04:00.223053Z",
     "iopub.status.busy": "2021-08-18T12:04:00.222310Z",
     "iopub.status.idle": "2021-08-18T12:05:34.854554Z",
     "shell.execute_reply": "2021-08-18T12:05:34.853737Z",
     "shell.execute_reply.started": "2021-08-16T10:06:22.991237Z"
    },
    "papermill": {
     "duration": 94.651256,
     "end_time": "2021-08-18T12:05:34.854785",
     "exception": false,
     "start_time": "2021-08-18T12:04:00.203529",
     "status": "completed"
    },
    "tags": []
   },
   "outputs": [
    {
     "name": "stdout",
     "output_type": "stream",
     "text": [
      "Collecting tensorflow-text\r\n",
      "  Downloading tensorflow_text-2.5.0-cp37-cp37m-manylinux1_x86_64.whl (4.3 MB)\r\n",
      "\u001b[K     |████████████████████████████████| 4.3 MB 3.4 MB/s \r\n",
      "\u001b[?25hRequirement already satisfied: tensorflow-hub>=0.8.0 in /opt/conda/lib/python3.7/site-packages (from tensorflow-text) (0.12.0)\r\n",
      "Collecting tensorflow<2.6,>=2.5.0\r\n",
      "  Downloading tensorflow-2.5.1-cp37-cp37m-manylinux2010_x86_64.whl (454.4 MB)\r\n",
      "\u001b[K     |████████████████████████████████| 454.4 MB 7.5 kB/s \r\n",
      "\u001b[?25hRequirement already satisfied: astunparse~=1.6.3 in /opt/conda/lib/python3.7/site-packages (from tensorflow<2.6,>=2.5.0->tensorflow-text) (1.6.3)\r\n",
      "Requirement already satisfied: keras-preprocessing~=1.1.2 in /opt/conda/lib/python3.7/site-packages (from tensorflow<2.6,>=2.5.0->tensorflow-text) (1.1.2)\r\n",
      "Requirement already satisfied: typing-extensions~=3.7.4 in /opt/conda/lib/python3.7/site-packages (from tensorflow<2.6,>=2.5.0->tensorflow-text) (3.7.4.3)\r\n",
      "Collecting gast==0.4.0\r\n",
      "  Downloading gast-0.4.0-py3-none-any.whl (9.8 kB)\r\n",
      "Collecting keras-nightly~=2.5.0.dev\r\n",
      "  Downloading keras_nightly-2.5.0.dev2021032900-py2.py3-none-any.whl (1.2 MB)\r\n",
      "\u001b[K     |████████████████████████████████| 1.2 MB 35.6 MB/s \r\n",
      "\u001b[?25hRequirement already satisfied: absl-py~=0.10 in /opt/conda/lib/python3.7/site-packages (from tensorflow<2.6,>=2.5.0->tensorflow-text) (0.12.0)\r\n",
      "Collecting h5py~=3.1.0\r\n",
      "  Downloading h5py-3.1.0-cp37-cp37m-manylinux1_x86_64.whl (4.0 MB)\r\n",
      "\u001b[K     |████████████████████████████████| 4.0 MB 35.1 MB/s \r\n",
      "\u001b[?25hRequirement already satisfied: termcolor~=1.1.0 in /opt/conda/lib/python3.7/site-packages (from tensorflow<2.6,>=2.5.0->tensorflow-text) (1.1.0)\r\n",
      "Requirement already satisfied: wrapt~=1.12.1 in /opt/conda/lib/python3.7/site-packages (from tensorflow<2.6,>=2.5.0->tensorflow-text) (1.12.1)\r\n",
      "Collecting tensorboard~=2.5\r\n",
      "  Downloading tensorboard-2.6.0-py3-none-any.whl (5.6 MB)\r\n",
      "\u001b[K     |████████████████████████████████| 5.6 MB 31.8 MB/s \r\n",
      "\u001b[?25hRequirement already satisfied: opt-einsum~=3.3.0 in /opt/conda/lib/python3.7/site-packages (from tensorflow<2.6,>=2.5.0->tensorflow-text) (3.3.0)\r\n",
      "Requirement already satisfied: flatbuffers~=1.12.0 in /opt/conda/lib/python3.7/site-packages (from tensorflow<2.6,>=2.5.0->tensorflow-text) (1.12)\r\n",
      "Requirement already satisfied: protobuf>=3.9.2 in /opt/conda/lib/python3.7/site-packages (from tensorflow<2.6,>=2.5.0->tensorflow-text) (3.17.3)\r\n",
      "Collecting tensorflow-estimator<2.6.0,>=2.5.0\r\n",
      "  Downloading tensorflow_estimator-2.5.0-py2.py3-none-any.whl (462 kB)\r\n",
      "\u001b[K     |████████████████████████████████| 462 kB 34.4 MB/s \r\n",
      "\u001b[?25hCollecting grpcio~=1.34.0\r\n",
      "  Downloading grpcio-1.34.1-cp37-cp37m-manylinux2014_x86_64.whl (4.0 MB)\r\n",
      "\u001b[K     |████████████████████████████████| 4.0 MB 35.9 MB/s \r\n",
      "\u001b[?25hRequirement already satisfied: google-pasta~=0.2 in /opt/conda/lib/python3.7/site-packages (from tensorflow<2.6,>=2.5.0->tensorflow-text) (0.2.0)\r\n",
      "Requirement already satisfied: wheel~=0.35 in /opt/conda/lib/python3.7/site-packages (from tensorflow<2.6,>=2.5.0->tensorflow-text) (0.36.2)\r\n",
      "Requirement already satisfied: six~=1.15.0 in /opt/conda/lib/python3.7/site-packages (from tensorflow<2.6,>=2.5.0->tensorflow-text) (1.15.0)\r\n",
      "Requirement already satisfied: numpy~=1.19.2 in /opt/conda/lib/python3.7/site-packages (from tensorflow<2.6,>=2.5.0->tensorflow-text) (1.19.5)\r\n",
      "Collecting cached-property\r\n",
      "  Downloading cached_property-1.5.2-py2.py3-none-any.whl (7.6 kB)\r\n",
      "Requirement already satisfied: requests<3,>=2.21.0 in /opt/conda/lib/python3.7/site-packages (from tensorboard~=2.5->tensorflow<2.6,>=2.5.0->tensorflow-text) (2.25.1)\r\n",
      "Requirement already satisfied: google-auth-oauthlib<0.5,>=0.4.1 in /opt/conda/lib/python3.7/site-packages (from tensorboard~=2.5->tensorflow<2.6,>=2.5.0->tensorflow-text) (0.4.4)\r\n",
      "Requirement already satisfied: werkzeug>=0.11.15 in /opt/conda/lib/python3.7/site-packages (from tensorboard~=2.5->tensorflow<2.6,>=2.5.0->tensorflow-text) (2.0.1)\r\n",
      "Requirement already satisfied: tensorboard-data-server<0.7.0,>=0.6.0 in /opt/conda/lib/python3.7/site-packages (from tensorboard~=2.5->tensorflow<2.6,>=2.5.0->tensorflow-text) (0.6.1)\r\n",
      "Requirement already satisfied: google-auth<2,>=1.6.3 in /opt/conda/lib/python3.7/site-packages (from tensorboard~=2.5->tensorflow<2.6,>=2.5.0->tensorflow-text) (1.30.2)\r\n",
      "Requirement already satisfied: markdown>=2.6.8 in /opt/conda/lib/python3.7/site-packages (from tensorboard~=2.5->tensorflow<2.6,>=2.5.0->tensorflow-text) (3.3.4)\r\n",
      "Requirement already satisfied: tensorboard-plugin-wit>=1.6.0 in /opt/conda/lib/python3.7/site-packages (from tensorboard~=2.5->tensorflow<2.6,>=2.5.0->tensorflow-text) (1.8.0)\r\n",
      "Requirement already satisfied: setuptools>=41.0.0 in /opt/conda/lib/python3.7/site-packages (from tensorboard~=2.5->tensorflow<2.6,>=2.5.0->tensorflow-text) (49.6.0.post20210108)\r\n",
      "Requirement already satisfied: rsa<5,>=3.1.4 in /opt/conda/lib/python3.7/site-packages (from google-auth<2,>=1.6.3->tensorboard~=2.5->tensorflow<2.6,>=2.5.0->tensorflow-text) (4.7.2)\r\n",
      "Requirement already satisfied: pyasn1-modules>=0.2.1 in /opt/conda/lib/python3.7/site-packages (from google-auth<2,>=1.6.3->tensorboard~=2.5->tensorflow<2.6,>=2.5.0->tensorflow-text) (0.2.7)\r\n",
      "Requirement already satisfied: cachetools<5.0,>=2.0.0 in /opt/conda/lib/python3.7/site-packages (from google-auth<2,>=1.6.3->tensorboard~=2.5->tensorflow<2.6,>=2.5.0->tensorflow-text) (4.2.2)\r\n",
      "Requirement already satisfied: requests-oauthlib>=0.7.0 in /opt/conda/lib/python3.7/site-packages (from google-auth-oauthlib<0.5,>=0.4.1->tensorboard~=2.5->tensorflow<2.6,>=2.5.0->tensorflow-text) (1.3.0)\r\n",
      "Requirement already satisfied: importlib-metadata in /opt/conda/lib/python3.7/site-packages (from markdown>=2.6.8->tensorboard~=2.5->tensorflow<2.6,>=2.5.0->tensorflow-text) (3.4.0)\r\n",
      "Requirement already satisfied: pyasn1<0.5.0,>=0.4.6 in /opt/conda/lib/python3.7/site-packages (from pyasn1-modules>=0.2.1->google-auth<2,>=1.6.3->tensorboard~=2.5->tensorflow<2.6,>=2.5.0->tensorflow-text) (0.4.8)\r\n",
      "Requirement already satisfied: idna<3,>=2.5 in /opt/conda/lib/python3.7/site-packages (from requests<3,>=2.21.0->tensorboard~=2.5->tensorflow<2.6,>=2.5.0->tensorflow-text) (2.10)\r\n",
      "Requirement already satisfied: urllib3<1.27,>=1.21.1 in /opt/conda/lib/python3.7/site-packages (from requests<3,>=2.21.0->tensorboard~=2.5->tensorflow<2.6,>=2.5.0->tensorflow-text) (1.26.5)\r\n",
      "Requirement already satisfied: certifi>=2017.4.17 in /opt/conda/lib/python3.7/site-packages (from requests<3,>=2.21.0->tensorboard~=2.5->tensorflow<2.6,>=2.5.0->tensorflow-text) (2021.5.30)\r\n",
      "Requirement already satisfied: chardet<5,>=3.0.2 in /opt/conda/lib/python3.7/site-packages (from requests<3,>=2.21.0->tensorboard~=2.5->tensorflow<2.6,>=2.5.0->tensorflow-text) (4.0.0)\r\n",
      "Requirement already satisfied: oauthlib>=3.0.0 in /opt/conda/lib/python3.7/site-packages (from requests-oauthlib>=0.7.0->google-auth-oauthlib<0.5,>=0.4.1->tensorboard~=2.5->tensorflow<2.6,>=2.5.0->tensorflow-text) (3.1.1)\r\n",
      "Requirement already satisfied: zipp>=0.5 in /opt/conda/lib/python3.7/site-packages (from importlib-metadata->markdown>=2.6.8->tensorboard~=2.5->tensorflow<2.6,>=2.5.0->tensorflow-text) (3.4.1)\r\n",
      "Installing collected packages: grpcio, cached-property, tensorflow-estimator, tensorboard, keras-nightly, h5py, gast, tensorflow, tensorflow-text\r\n",
      "  Attempting uninstall: grpcio\r\n",
      "    Found existing installation: grpcio 1.32.0\r\n",
      "    Uninstalling grpcio-1.32.0:\r\n",
      "      Successfully uninstalled grpcio-1.32.0\r\n",
      "  Attempting uninstall: tensorflow-estimator\r\n",
      "    Found existing installation: tensorflow-estimator 2.4.0\r\n",
      "    Uninstalling tensorflow-estimator-2.4.0:\r\n",
      "      Successfully uninstalled tensorflow-estimator-2.4.0\r\n",
      "  Attempting uninstall: tensorboard\r\n",
      "    Found existing installation: tensorboard 2.4.1\r\n",
      "    Uninstalling tensorboard-2.4.1:\r\n",
      "      Successfully uninstalled tensorboard-2.4.1\r\n",
      "  Attempting uninstall: h5py\r\n",
      "    Found existing installation: h5py 2.10.0\r\n",
      "    Uninstalling h5py-2.10.0:\r\n",
      "      Successfully uninstalled h5py-2.10.0\r\n",
      "  Attempting uninstall: gast\r\n",
      "    Found existing installation: gast 0.3.3\r\n",
      "    Uninstalling gast-0.3.3:\r\n",
      "      Successfully uninstalled gast-0.3.3\r\n",
      "  Attempting uninstall: tensorflow\r\n",
      "    Found existing installation: tensorflow 2.4.1\r\n",
      "    Uninstalling tensorflow-2.4.1:\r\n",
      "      Successfully uninstalled tensorflow-2.4.1\r\n",
      "Successfully installed cached-property-1.5.2 gast-0.4.0 grpcio-1.34.1 h5py-3.1.0 keras-nightly-2.5.0.dev2021032900 tensorboard-2.6.0 tensorflow-2.5.1 tensorflow-estimator-2.5.0 tensorflow-text-2.5.0\r\n",
      "\u001b[33mWARNING: Running pip as root will break packages and permissions. You should install packages reliably by using venv: https://pip.pypa.io/warnings/venv\u001b[0m\r\n",
      "Note: you may need to restart the kernel to use updated packages.\n"
     ]
    }
   ],
   "source": [
    "pip install tensorflow-text"
   ]
  },
  {
   "cell_type": "code",
   "execution_count": 4,
   "id": "ac6f4cad",
   "metadata": {
    "execution": {
     "iopub.execute_input": "2021-08-18T12:05:35.535120Z",
     "iopub.status.busy": "2021-08-18T12:05:35.534106Z",
     "iopub.status.idle": "2021-08-18T12:05:39.931653Z",
     "shell.execute_reply": "2021-08-18T12:05:39.930869Z",
     "shell.execute_reply.started": "2021-08-16T10:05:48.832894Z"
    },
    "papermill": {
     "duration": 4.736771,
     "end_time": "2021-08-18T12:05:39.931822",
     "exception": false,
     "start_time": "2021-08-18T12:05:35.195051",
     "status": "completed"
    },
    "tags": []
   },
   "outputs": [],
   "source": [
    "import re\n",
    "import string\n",
    "import numpy as np \n",
    "import random\n",
    "import pandas as pd \n",
    "\n",
    "import nltk\n",
    "from nltk.corpus import stopwords\n",
    "from nltk.tokenize import word_tokenize\n",
    "\n",
    "from tqdm import tqdm\n",
    "import os\n",
    "import nltk\n",
    "import spacy\n",
    "import random\n",
    "from spacy.util import compounding\n",
    "from spacy.util import minibatch\n",
    "\n",
    "from collections import defaultdict\n",
    "from collections import Counter\n",
    "\n",
    "import tensorflow as tf\n",
    "import tensorflow_hub as hub\n",
    "import tensorflow_text \n",
    "\n",
    "\n",
    "from tensorflow.keras.layers import Dense, Input\n",
    "from tensorflow.keras.optimizers import Adam\n",
    "from tensorflow.keras.models import Model\n",
    "from tensorflow.keras.callbacks import ModelCheckpoint\n",
    "import tensorflow_hub as hub\n",
    "\n",
    "from sklearn.metrics import precision_score, recall_score, f1_score, classification_report,accuracy_score"
   ]
  },
  {
   "cell_type": "code",
   "execution_count": 5,
   "id": "4ee28950",
   "metadata": {
    "execution": {
     "iopub.execute_input": "2021-08-18T12:05:40.625227Z",
     "iopub.status.busy": "2021-08-18T12:05:40.624196Z",
     "iopub.status.idle": "2021-08-18T12:05:40.696570Z",
     "shell.execute_reply": "2021-08-18T12:05:40.695955Z",
     "shell.execute_reply.started": "2021-08-15T09:55:00.44573Z"
    },
    "papermill": {
     "duration": 0.407297,
     "end_time": "2021-08-18T12:05:40.696715",
     "exception": false,
     "start_time": "2021-08-18T12:05:40.289418",
     "status": "completed"
    },
    "tags": []
   },
   "outputs": [],
   "source": [
    "train = pd.read_csv('../input/nlp-getting-started/train.csv')\n",
    "test  = pd.read_csv('../input/nlp-getting-started/test.csv')"
   ]
  },
  {
   "cell_type": "code",
   "execution_count": 6,
   "id": "14a6c7b2",
   "metadata": {
    "execution": {
     "iopub.execute_input": "2021-08-18T12:05:41.362197Z",
     "iopub.status.busy": "2021-08-18T12:05:41.361223Z",
     "iopub.status.idle": "2021-08-18T12:05:41.369313Z",
     "shell.execute_reply": "2021-08-18T12:05:41.368059Z"
    },
    "papermill": {
     "duration": 0.340453,
     "end_time": "2021-08-18T12:05:41.369523",
     "exception": false,
     "start_time": "2021-08-18T12:05:41.029070",
     "status": "completed"
    },
    "tags": []
   },
   "outputs": [
    {
     "name": "stdout",
     "output_type": "stream",
     "text": [
      "(7613, 5)\n",
      "(3263, 4)\n"
     ]
    }
   ],
   "source": [
    "print(train.shape)\n",
    "print(test.shape)"
   ]
  },
  {
   "cell_type": "code",
   "execution_count": 7,
   "id": "ebf5ddb9",
   "metadata": {
    "execution": {
     "iopub.execute_input": "2021-08-18T12:05:42.049164Z",
     "iopub.status.busy": "2021-08-18T12:05:42.048360Z",
     "iopub.status.idle": "2021-08-18T12:05:42.406346Z",
     "shell.execute_reply": "2021-08-18T12:05:42.405674Z"
    },
    "papermill": {
     "duration": 0.703318,
     "end_time": "2021-08-18T12:05:42.406496",
     "exception": false,
     "start_time": "2021-08-18T12:05:41.703178",
     "status": "completed"
    },
    "tags": []
   },
   "outputs": [
    {
     "data": {
      "text/plain": [
       "<AxesSubplot:>"
      ]
     },
     "execution_count": 7,
     "metadata": {},
     "output_type": "execute_result"
    },
    {
     "data": {
      "image/png": "[encoded data removed]",
      "text/plain": [
       "<Figure size 432x288 with 1 Axes>"
      ]
     },
     "metadata": {
      "needs_background": "light"
     },
     "output_type": "display_data"
    }
   ],
   "source": [
    "train['target'].value_counts().plot(kind='barh')"
   ]
  },
  {
   "cell_type": "code",
   "execution_count": 8,
   "id": "968bfeb3",
   "metadata": {
    "execution": {
     "iopub.execute_input": "2021-08-18T12:05:43.083310Z",
     "iopub.status.busy": "2021-08-18T12:05:43.082477Z",
     "iopub.status.idle": "2021-08-18T12:05:43.086247Z",
     "shell.execute_reply": "2021-08-18T12:05:43.085669Z"
    },
    "papermill": {
     "duration": 0.347589,
     "end_time": "2021-08-18T12:05:43.086412",
     "exception": false,
     "start_time": "2021-08-18T12:05:42.738823",
     "status": "completed"
    },
    "tags": []
   },
   "outputs": [
    {
     "data": {
      "text/plain": [
       "0    4342\n",
       "1    3271\n",
       "Name: target, dtype: int64"
      ]
     },
     "execution_count": 8,
     "metadata": {},
     "output_type": "execute_result"
    }
   ],
   "source": [
    "train['target'].value_counts()"
   ]
  },
  {
   "cell_type": "code",
   "execution_count": 9,
   "id": "5fd440fa",
   "metadata": {
    "execution": {
     "iopub.execute_input": "2021-08-18T12:05:43.757105Z",
     "iopub.status.busy": "2021-08-18T12:05:43.756081Z",
     "iopub.status.idle": "2021-08-18T12:05:44.991938Z",
     "shell.execute_reply": "2021-08-18T12:05:44.992536Z",
     "shell.execute_reply.started": "2021-08-15T09:55:37.787612Z"
    },
    "papermill": {
     "duration": 1.574687,
     "end_time": "2021-08-18T12:05:44.992723",
     "exception": false,
     "start_time": "2021-08-18T12:05:43.418036",
     "status": "completed"
    },
    "tags": []
   },
   "outputs": [],
   "source": [
    "nlp = spacy.load('en_core_web_sm')\n",
    "def preprocess(text):\n",
    "    doc = nlp(text)\n",
    "    lemmas = [token.lemma_ for token in doc]\n",
    "    a_lemmas = [lemma.lower() for lemma in lemmas if lemma.isalpha() and lemma not in stopwords.words('english')]\n",
    "    lemmatized_text = ' '.join(a_lemmas)\n",
    "    return lemmatized_text"
   ]
  },
  {
   "cell_type": "code",
   "execution_count": 10,
   "id": "28b46bfa",
   "metadata": {
    "execution": {
     "iopub.execute_input": "2021-08-18T12:05:45.710934Z",
     "iopub.status.busy": "2021-08-18T12:05:45.710246Z",
     "iopub.status.idle": "2021-08-18T12:08:00.094558Z",
     "shell.execute_reply": "2021-08-18T12:08:00.095116Z",
     "shell.execute_reply.started": "2021-08-15T09:55:39.865859Z"
    },
    "papermill": {
     "duration": 134.744356,
     "end_time": "2021-08-18T12:08:00.095352",
     "exception": false,
     "start_time": "2021-08-18T12:05:45.350996",
     "status": "completed"
    },
    "tags": []
   },
   "outputs": [],
   "source": [
    "train['text'] = train['text'].apply(lambda row: preprocess(row))\n",
    "test['text'] = test['text'].apply(lambda row: preprocess(row))"
   ]
  },
  {
   "cell_type": "code",
   "execution_count": 11,
   "id": "087eaa5e",
   "metadata": {
    "execution": {
     "iopub.execute_input": "2021-08-18T12:08:00.764659Z",
     "iopub.status.busy": "2021-08-18T12:08:00.764022Z",
     "iopub.status.idle": "2021-08-18T12:08:00.767990Z",
     "shell.execute_reply": "2021-08-18T12:08:00.768449Z"
    },
    "papermill": {
     "duration": 0.338777,
     "end_time": "2021-08-18T12:08:00.768619",
     "exception": false,
     "start_time": "2021-08-18T12:08:00.429842",
     "status": "completed"
    },
    "tags": []
   },
   "outputs": [],
   "source": [
    "input_value = train.text"
   ]
  },
  {
   "cell_type": "code",
   "execution_count": 12,
   "id": "87e035fd",
   "metadata": {
    "execution": {
     "iopub.execute_input": "2021-08-18T12:08:01.437915Z",
     "iopub.status.busy": "2021-08-18T12:08:01.437146Z",
     "iopub.status.idle": "2021-08-18T12:08:01.442570Z",
     "shell.execute_reply": "2021-08-18T12:08:01.441968Z"
    },
    "papermill": {
     "duration": 0.341439,
     "end_time": "2021-08-18T12:08:01.442759",
     "exception": false,
     "start_time": "2021-08-18T12:08:01.101320",
     "status": "completed"
    },
    "tags": []
   },
   "outputs": [],
   "source": [
    "y = train.target\n",
    "X = train.text"
   ]
  },
  {
   "cell_type": "code",
   "execution_count": 13,
   "id": "eb91c70c",
   "metadata": {
    "execution": {
     "iopub.execute_input": "2021-08-18T12:08:02.121057Z",
     "iopub.status.busy": "2021-08-18T12:08:02.120403Z",
     "iopub.status.idle": "2021-08-18T12:08:02.131841Z",
     "shell.execute_reply": "2021-08-18T12:08:02.131143Z"
    },
    "papermill": {
     "duration": 0.355217,
     "end_time": "2021-08-18T12:08:02.131991",
     "exception": false,
     "start_time": "2021-08-18T12:08:01.776774",
     "status": "completed"
    },
    "tags": []
   },
   "outputs": [],
   "source": [
    "from sklearn.feature_extraction.text import CountVectorizer\n",
    "from sklearn.feature_extraction.text import TfidfTransformer\n",
    "from sklearn.model_selection import train_test_split\n",
    "from sklearn.pipeline import Pipeline\n",
    "from sklearn.naive_bayes import MultinomialNB\n",
    "from sklearn.metrics import accuracy_score"
   ]
  },
  {
   "cell_type": "code",
   "execution_count": 14,
   "id": "4832c1a4",
   "metadata": {
    "execution": {
     "iopub.execute_input": "2021-08-18T12:08:02.803861Z",
     "iopub.status.busy": "2021-08-18T12:08:02.802932Z",
     "iopub.status.idle": "2021-08-18T12:08:02.806363Z",
     "shell.execute_reply": "2021-08-18T12:08:02.806857Z"
    },
    "papermill": {
     "duration": 0.343372,
     "end_time": "2021-08-18T12:08:02.807042",
     "exception": false,
     "start_time": "2021-08-18T12:08:02.463670",
     "status": "completed"
    },
    "tags": []
   },
   "outputs": [],
   "source": [
    "X_train,X_test,y_train,y_test = train_test_split(X,y)"
   ]
  },
  {
   "cell_type": "code",
   "execution_count": 15,
   "id": "05deab1c",
   "metadata": {
    "execution": {
     "iopub.execute_input": "2021-08-18T12:08:03.505213Z",
     "iopub.status.busy": "2021-08-18T12:08:03.504192Z",
     "iopub.status.idle": "2021-08-18T12:08:03.508824Z",
     "shell.execute_reply": "2021-08-18T12:08:03.509367Z"
    },
    "papermill": {
     "duration": 0.349455,
     "end_time": "2021-08-18T12:08:03.509532",
     "exception": false,
     "start_time": "2021-08-18T12:08:03.160077",
     "status": "completed"
    },
    "tags": []
   },
   "outputs": [],
   "source": [
    "pipe = Pipeline([('bow', CountVectorizer()),\n",
    "                ('tfidf', TfidfTransformer()),\n",
    "                ('model', MultinomialNB())])"
   ]
  },
  {
   "cell_type": "code",
   "execution_count": 16,
   "id": "9e64b246",
   "metadata": {
    "execution": {
     "iopub.execute_input": "2021-08-18T12:08:04.184366Z",
     "iopub.status.busy": "2021-08-18T12:08:04.183362Z",
     "iopub.status.idle": "2021-08-18T12:08:04.344699Z",
     "shell.execute_reply": "2021-08-18T12:08:04.345396Z"
    },
    "papermill": {
     "duration": 0.501008,
     "end_time": "2021-08-18T12:08:04.345648",
     "exception": false,
     "start_time": "2021-08-18T12:08:03.844640",
     "status": "completed"
    },
    "tags": []
   },
   "outputs": [
    {
     "name": "stdout",
     "output_type": "stream",
     "text": [
      "0.7935924369747899\n"
     ]
    }
   ],
   "source": [
    "pipe.fit(X_train, y_train)\n",
    "yp_class = pipe.predict(X_test)\n",
    "print(accuracy_score(y_test, yp_class))"
   ]
  },
  {
   "cell_type": "code",
   "execution_count": 17,
   "id": "48c77686",
   "metadata": {
    "execution": {
     "iopub.execute_input": "2021-08-18T12:08:05.024569Z",
     "iopub.status.busy": "2021-08-18T12:08:05.023221Z",
     "iopub.status.idle": "2021-08-18T12:08:05.088673Z",
     "shell.execute_reply": "2021-08-18T12:08:05.087119Z"
    },
    "papermill": {
     "duration": 0.406834,
     "end_time": "2021-08-18T12:08:05.088848",
     "exception": false,
     "start_time": "2021-08-18T12:08:04.682014",
     "status": "completed"
    },
    "tags": []
   },
   "outputs": [],
   "source": [
    "submission = pd.DataFrame({'id': test.id, 'target': pipe.predict(test.text)})\n",
    "submission.to_csv('submission.csv', index=False)"
   ]
  }
 ],
 "metadata": {
  "kernelspec": {
   "display_name": "Python 3",
   "language": "python",
   "name": "python3"
  },
  "language_info": {
   "codemirror_mode": {
    "name": "ipython",
    "version": 3
   },
   "file_extension": ".py",
   "mimetype": "text/x-python",
   "name": "python",
   "nbconvert_exporter": "python",
   "pygments_lexer": "ipython3",
   "version": "3.7.10"
  },
  "papermill": {
   "default_parameters": {},
   "duration": 255.940752,
   "end_time": "2021-08-18T12:08:07.025134",
   "environment_variables": {},
   "exception": null,
   "input_path": "__notebook__.ipynb",
   "output_path": "__notebook__.ipynb",
   "parameters": {},
   "start_time": "2021-08-18T12:03:51.084382",
   "version": "2.3.3"
  }
 },
 "nbformat": 4,
 "nbformat_minor": 5
}
